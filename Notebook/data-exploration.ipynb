{
 "cells": [
  {
   "cell_type": "code",
   "execution_count": null,
   "id": "d86865c5",
   "metadata": {},
   "outputs": [],
   "source": [
    "# import des librairy\n",
    "\n",
    "import pandas as pd\n",
    "import numpy as np\n",
    "import os\n",
    "import glob\n",
    "import seaborn as sns\n",
    "import matplotlib.pyplot as plt\n",
    "\n",
    "#imputer\n",
    "from sklearn.experimental import enable_iterative_imputer\n",
    "from sklearn.impute import IterativeImputer\n",
    "\n",
    "from sklearn.linear_model import BayesianRidge\n",
    "\n",
    "pd.options.display.max_columns = 999\n",
    "\n",
    "import warnings\n",
    "warnings.filterwarnings(\"ignore\", category=DeprecationWarning)\n"
   ]
  },
  {
   "cell_type": "markdown",
   "id": "6a6452c0",
   "metadata": {},
   "source": [
    "### let's focus on application_train.csv"
   ]
  },
  {
   "cell_type": "code",
   "execution_count": null,
   "id": "7e06467d",
   "metadata": {},
   "outputs": [],
   "source": [
    "#open the dataframe\n",
    "\n",
    "df_application = pd.read_csv(r'C:\\\\Users\\\\alojou\\\\Notebook Python\\\\Projet_7 Modèle de scoring\\\\input\\\\df_train.csv')"
   ]
  },
  {
   "cell_type": "markdown",
   "id": "8d2ecd7d",
   "metadata": {},
   "source": [
    "## Format Data"
   ]
  },
  {
   "cell_type": "code",
   "execution_count": null,
   "id": "9b7dc0a8",
   "metadata": {},
   "outputs": [],
   "source": [
    "\"\"\"category_features = []\n",
    "threshold = 10\n",
    "for each in df_application.columns:\n",
    "    if df_application[each].nunique() < threshold:\n",
    "        category_features.append(each)\n",
    "\n",
    "print(\"transformed from numerical to categorical : \",category_features)   \n",
    "        \n",
    "        \n",
    "for each in category_features:\n",
    "    df_application[each] = df_application[each].astype('category')\"\"\""
   ]
  },
  {
   "cell_type": "code",
   "execution_count": null,
   "id": "94a4d194",
   "metadata": {},
   "outputs": [],
   "source": [
    "\"\"\"obj_col = df_application.select_dtypes(\"object\").columns\n",
    "for each in obj_col:\n",
    "    df_application[each] = df_application[each].astype('category')\"\"\""
   ]
  },
  {
   "cell_type": "code",
   "execution_count": null,
   "id": "07586dad",
   "metadata": {},
   "outputs": [],
   "source": [
    "\"\"\"# split dtypes for futur analysis\n",
    "numeric_col = df_application.select_dtypes(np.number).columns\n",
    "cat_col = df_application.select_dtypes(\"category\").columns\"\"\""
   ]
  },
  {
   "cell_type": "code",
   "execution_count": null,
   "id": "535f4d61",
   "metadata": {},
   "outputs": [],
   "source": [
    "\"\"\"print(numeric_col)\n",
    "print(cat_col)\"\"\""
   ]
  },
  {
   "cell_type": "code",
   "execution_count": null,
   "id": "a8c87dfc",
   "metadata": {},
   "outputs": [],
   "source": [
    "df_application.info()"
   ]
  },
  {
   "cell_type": "code",
   "execution_count": null,
   "id": "5a1e8992",
   "metadata": {},
   "outputs": [],
   "source": [
    "df_application.head()"
   ]
  },
  {
   "cell_type": "markdown",
   "id": "9bb0dc28",
   "metadata": {},
   "source": [
    "## Gestion des NAN"
   ]
  },
  {
   "cell_type": "code",
   "execution_count": null,
   "id": "8cb3289b",
   "metadata": {},
   "outputs": [],
   "source": [
    "df_application.isna().sum()[df_application.isna().sum()> 0].to_frame().T"
   ]
  },
  {
   "cell_type": "code",
   "execution_count": null,
   "id": "b51af6d0",
   "metadata": {},
   "outputs": [],
   "source": [
    "nan_col = df_application.isna().sum()[df_application.isna().sum()> 0].to_frame().T.columns\n",
    "\n",
    "num_nan_col = df_application[nan_col].select_dtypes(np.number).columns\n",
    "cat_nan_col = df_application[nan_col].select_dtypes(\"category\").columns"
   ]
  },
  {
   "cell_type": "code",
   "execution_count": null,
   "id": "f602e383",
   "metadata": {},
   "outputs": [],
   "source": [
    "num_nan_col"
   ]
  },
  {
   "cell_type": "markdown",
   "id": "d31b1479",
   "metadata": {},
   "source": [
    "## Imputation des nan "
   ]
  },
  {
   "cell_type": "markdown",
   "id": "d469a997",
   "metadata": {},
   "source": [
    "## Numérique"
   ]
  },
  {
   "cell_type": "code",
   "execution_count": null,
   "id": "302dffe5",
   "metadata": {},
   "outputs": [],
   "source": [
    "df_application.replace([np.inf, -np.inf], np.nan, inplace=True)"
   ]
  },
  {
   "cell_type": "code",
   "execution_count": null,
   "id": "df329c8c",
   "metadata": {},
   "outputs": [],
   "source": [
    "imputer = IterativeImputer(estimator = BayesianRidge(), n_nearest_features=5, imputation_order='ascending',skip_complete = True)"
   ]
  },
  {
   "cell_type": "code",
   "execution_count": null,
   "id": "6b6a9891",
   "metadata": {},
   "outputs": [],
   "source": [
    "# fit on the dataset\n",
    "#imputer.fit(df_application[num_nan_col])\n",
    "# transform the dataset\n",
    "Xtrans = imputer.transform(df_application[num_nan_col])\n"
   ]
  },
  {
   "cell_type": "code",
   "execution_count": null,
   "id": "90691249",
   "metadata": {},
   "outputs": [],
   "source": [
    "pd.DataFrame(Xtrans).info()"
   ]
  },
  {
   "cell_type": "code",
   "execution_count": null,
   "id": "c8050352",
   "metadata": {},
   "outputs": [],
   "source": [
    "trans_pd = pd.DataFrame(Xtrans).set_axis(num_nan_col, axis=1, inplace=False)"
   ]
  },
  {
   "cell_type": "code",
   "execution_count": null,
   "id": "74091cc9",
   "metadata": {},
   "outputs": [],
   "source": [
    "df_application = df_application.drop(columns = num_nan_col)"
   ]
  },
  {
   "cell_type": "code",
   "execution_count": null,
   "id": "c502d20e",
   "metadata": {},
   "outputs": [],
   "source": [
    "df_merged = df_application.join(trans_pd, how=\"inner\" )"
   ]
  },
  {
   "cell_type": "code",
   "execution_count": null,
   "id": "3fc975e5",
   "metadata": {},
   "outputs": [],
   "source": [
    "df_merged"
   ]
  },
  {
   "cell_type": "code",
   "execution_count": null,
   "id": "25c0aa0d",
   "metadata": {},
   "outputs": [],
   "source": [
    "df_merged.to_csv(r'C:\\\\Users\\\\alojou\\\\Notebook Python\\\\Projet_7 Modèle de scoring\\\\input\\\\df_train.csv')"
   ]
  },
  {
   "cell_type": "code",
   "execution_count": null,
   "id": "5b1bff98",
   "metadata": {},
   "outputs": [],
   "source": [
    "df_application.isna().sum()[df_application.isna().sum()> 0].to_frame().T"
   ]
  },
  {
   "cell_type": "code",
   "execution_count": null,
   "id": "8c2fcb53",
   "metadata": {},
   "outputs": [],
   "source": [
    "df_application = df_merged"
   ]
  },
  {
   "cell_type": "code",
   "execution_count": null,
   "id": "5ddf6bfa",
   "metadata": {},
   "outputs": [],
   "source": [
    "df_application.info()"
   ]
  },
  {
   "cell_type": "markdown",
   "id": "8cd36eb8",
   "metadata": {},
   "source": [
    "### Univariate analyis"
   ]
  },
  {
   "cell_type": "code",
   "execution_count": null,
   "id": "0e0b3b30",
   "metadata": {
    "scrolled": true
   },
   "outputs": [],
   "source": [
    "for colu in cat_col:\n",
    "    plt.figure(figsize=(9, 5))\n",
    "    ax = sns.countplot(y=colu, hue=\"TARGET\",data=df_application)\n",
    "    plt.show()"
   ]
  },
  {
   "cell_type": "code",
   "execution_count": null,
   "id": "1a36a0ac",
   "metadata": {
    "scrolled": true
   },
   "outputs": [],
   "source": [
    "## let's take a closer look on organization_type\n",
    "\n",
    "df_application.ORGANIZATION_TYPE = df_application.ORGANIZATION_TYPE.apply(lambda x : str(x).split(\" \")[0].replace(\":\",\"\"))"
   ]
  },
  {
   "cell_type": "code",
   "execution_count": null,
   "id": "f56bf60b",
   "metadata": {
    "scrolled": true
   },
   "outputs": [],
   "source": [
    "for colu in numeric_col:\n",
    "    \n",
    "    g = sns.FacetGrid(df_application, hue=\"TARGET\", palette=\"Set1\",height=4, aspect=2)\n",
    "    g.map(sns.kdeplot, colu)\n",
    "    plt.show()\n",
    "    "
   ]
  },
  {
   "cell_type": "markdown",
   "id": "0ace27ac",
   "metadata": {},
   "source": [
    "## Multivariate analysis "
   ]
  },
  {
   "cell_type": "markdown",
   "id": "1828ce48",
   "metadata": {},
   "source": [
    "#### a revoir pd.scatter_matrix pour distinguer les relation linéaire et non linéaire"
   ]
  },
  {
   "cell_type": "code",
   "execution_count": null,
   "id": "48a03393",
   "metadata": {},
   "outputs": [],
   "source": [
    "#pairplot\n",
    "#pd.plotting.scatter_matrix(df_application[numeric_col],hist_kwds={'bins':30})"
   ]
  },
  {
   "cell_type": "code",
   "execution_count": null,
   "id": "6351d247",
   "metadata": {},
   "outputs": [],
   "source": [
    "#corr_df_p = df_application.corr(method='pearson')\n",
    "corr_df_s = df_application.corr(method='spearman')"
   ]
  },
  {
   "cell_type": "code",
   "execution_count": null,
   "id": "a8d8a7d8",
   "metadata": {},
   "outputs": [],
   "source": [
    "plt.figure(figsize=(20,20))\n",
    "sns.heatmap(corr_df_p[corr_df_p>0.8], annot=True)\n",
    "plt.show()"
   ]
  },
  {
   "cell_type": "code",
   "execution_count": null,
   "id": "5f420077",
   "metadata": {},
   "outputs": [],
   "source": [
    "plt.figure(figsize=(20,20))\n",
    "sns.heatmap(corr_df_s[corr_df_s>0.8], annot=True)\n",
    "plt.show()"
   ]
  },
  {
   "cell_type": "markdown",
   "id": "318428b3",
   "metadata": {},
   "source": [
    "### drop correlated columns"
   ]
  },
  {
   "cell_type": "code",
   "execution_count": null,
   "id": "410dc3ce",
   "metadata": {},
   "outputs": [],
   "source": [
    "import numpy as np\n",
    "\n",
    "# Create correlation matrix\n",
    "corr_matrix = df_application.corr(method='spearman').abs()\n",
    "\n",
    "# Select upper triangle of correlation matrix\n",
    "upper = corr_matrix.where(np.triu(np.ones(corr_matrix.shape), k=1).astype(np.bool))\n",
    "\n",
    "# Find features with correlation greater than 0.8\n",
    "to_drop = [column for column in upper.columns if any(upper[column] > 0.8)]\n",
    "\n",
    "print(\"columns removed : \",to_drop)\n",
    "\n",
    "# Drop features \n",
    "df_application.drop(to_drop, axis=1, inplace=True)"
   ]
  },
  {
   "cell_type": "code",
   "execution_count": null,
   "id": "f31cc633",
   "metadata": {},
   "outputs": [],
   "source": [
    "#update numeric column \n",
    "numeric_col = [col for col in numeric_col if col not in to_drop]"
   ]
  },
  {
   "cell_type": "markdown",
   "id": "2744df80",
   "metadata": {},
   "source": [
    "## Statistical test "
   ]
  },
  {
   "cell_type": "code",
   "execution_count": null,
   "id": "f911e858",
   "metadata": {},
   "outputs": [],
   "source": [
    "df_application.info()"
   ]
  },
  {
   "cell_type": "markdown",
   "id": "98158ffd",
   "metadata": {},
   "source": [
    "### Boxplot"
   ]
  },
  {
   "cell_type": "code",
   "execution_count": null,
   "id": "67912e84",
   "metadata": {
    "scrolled": true
   },
   "outputs": [],
   "source": [
    "sns.set_style(\"whitegrid\")\n",
    "\n",
    "for col in df_application.select_dtypes(np.number).columns : \n",
    "    plt.figure(figsize=(10,10))\n",
    "    sns.boxplot(x = 'TARGET', y = col, data = df_application) \n",
    "    plt.show()\n",
    "    pass"
   ]
  },
  {
   "cell_type": "markdown",
   "id": "37f10dc3",
   "metadata": {},
   "source": [
    "### Normal Test"
   ]
  },
  {
   "cell_type": "code",
   "execution_count": null,
   "id": "edffa3f4",
   "metadata": {},
   "outputs": [],
   "source": [
    "from scipy import stats\n",
    "\n",
    "stats_normal_results = {}\n",
    "\n",
    "for var in df_application.select_dtypes(np.number).columns:\n",
    "    print(\"variable à tester :\",var )\n",
    "    \n",
    "    k2, p = stats.normaltest(df_application[[var]])\n",
    "    alpha = 0.05\n",
    "    print(\"statistics = \",k2,\"p = {}\".format(p))\n",
    "    \n",
    "    if p < alpha:  # null hypothesis: x comes from a normal distribution\n",
    "        print(\"The null hypothesis can be rejected\\n\")\n",
    "        stats_normal_results[var] = \"no normal\"\n",
    "    else:\n",
    "        print(\"The null hypothesis cannot be rejected\\n\")\n",
    "        stats_normal_results[var] = \"normal\""
   ]
  },
  {
   "cell_type": "code",
   "execution_count": null,
   "id": "e4c61ec9",
   "metadata": {
    "scrolled": false
   },
   "outputs": [],
   "source": [
    "stats_normal_results"
   ]
  },
  {
   "cell_type": "markdown",
   "id": "a52bc743",
   "metadata": {},
   "source": [
    "### mann_whitney_u_test"
   ]
  },
  {
   "cell_type": "code",
   "execution_count": null,
   "id": "6aca3d57",
   "metadata": {},
   "outputs": [],
   "source": [
    "df_target = df_application[df_application.TARGET==1]"
   ]
  },
  {
   "cell_type": "code",
   "execution_count": null,
   "id": "36943c2a",
   "metadata": {},
   "outputs": [],
   "source": [
    "df_target"
   ]
  },
  {
   "cell_type": "code",
   "execution_count": null,
   "id": "c94bf0a0",
   "metadata": {},
   "outputs": [],
   "source": [
    "df_sampled = df_application[df_application.TARGET==0].sample(frac =0.1)"
   ]
  },
  {
   "cell_type": "code",
   "execution_count": null,
   "id": "2e137705",
   "metadata": {},
   "outputs": [],
   "source": [
    "df_sampled"
   ]
  },
  {
   "cell_type": "code",
   "execution_count": null,
   "id": "4f2b890b",
   "metadata": {},
   "outputs": [],
   "source": [
    "def mann_whitney_u_test(distribution_1, distribution_2):\n",
    "    \"\"\"\n",
    "    Perform the Mann-Whitney U Test, comparing two different distributions.\n",
    "    Args:\n",
    "       distribution_1: List. \n",
    "       distribution_2: List.\n",
    "    Outputs:\n",
    "        u_statistic: Float. U statisitic for the test.\n",
    "        p_value: Float.\n",
    "    \"\"\"\n",
    "    u_statistic, p_value = stats.mannwhitneyu(distribution_1, distribution_2)\n",
    "    return u_statistic, p_value\n"
   ]
  },
  {
   "cell_type": "code",
   "execution_count": null,
   "id": "37f431af",
   "metadata": {},
   "outputs": [],
   "source": [
    "#Perform the Mann-Whitney U Test on the two distributions\n",
    "\n",
    "stats_normal_results_2 ={}\n",
    "\n",
    "for var in df_application.select_dtypes(np.number).columns:\n",
    "    print(\"variable à tester :\",var )\n",
    "\n",
    "    u_statistic, p_value = mann_whitney_u_test(list(df_target[var]), list(df_sampled[var]))\n",
    "\n",
    "    alpha = 0.05\n",
    "    print(\"statistics = \",u_statistic,\"p = {}\".format(p))\n",
    "\n",
    "    if p < alpha:  # null hypothesis: population differe\n",
    "        print(\"The null hypothesis can be rejected\\n\")\n",
    "        stats_normal_results_2[var] = \"different\"\n",
    "    else:\n",
    "        print(\"The null hypothesis cannot be rejected\\n\")\n",
    "        stats_normal_results_2[var] = \"same\""
   ]
  },
  {
   "cell_type": "code",
   "execution_count": null,
   "id": "0c280b90",
   "metadata": {},
   "outputs": [],
   "source": [
    "stats_normal_results_2"
   ]
  },
  {
   "cell_type": "code",
   "execution_count": null,
   "id": "c897b76b",
   "metadata": {},
   "outputs": [],
   "source": [
    "df_application.to_csv(r'C:\\\\Users\\\\alojou\\\\Notebook Python\\\\Projet_7 Modèle de scoring\\\\Data\\\\df_clean.csv')"
   ]
  },
  {
   "cell_type": "code",
   "execution_count": null,
   "id": "80e0b871",
   "metadata": {},
   "outputs": [],
   "source": [
    "### next model"
   ]
  },
  {
   "cell_type": "code",
   "execution_count": null,
   "id": "4e2dca2c",
   "metadata": {},
   "outputs": [],
   "source": []
  }
 ],
 "metadata": {
  "kernelspec": {
   "display_name": "Python 3",
   "language": "python",
   "name": "python3"
  },
  "language_info": {
   "codemirror_mode": {
    "name": "ipython",
    "version": 3
   },
   "file_extension": ".py",
   "mimetype": "text/x-python",
   "name": "python",
   "nbconvert_exporter": "python",
   "pygments_lexer": "ipython3",
   "version": "3.9.4"
  }
 },
 "nbformat": 4,
 "nbformat_minor": 5
}
